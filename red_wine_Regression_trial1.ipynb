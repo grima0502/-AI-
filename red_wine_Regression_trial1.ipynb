{
 "cells": [
  {
   "cell_type": "code",
   "execution_count": 156,
   "id": "cea37b13",
   "metadata": {},
   "outputs": [],
   "source": [
    "import numpy as np\n",
    "import pandas as pd\n",
    "import matplotlib.pyplot as plt\n",
    "import re"
   ]
  },
  {
   "cell_type": "code",
   "execution_count": 157,
   "id": "378b7296",
   "metadata": {},
   "outputs": [],
   "source": [
    "red_df = pd.read_csv(r\"C:\\Users\\windo\\Downloads\\wine+quality\\winequality-red.csv\")\n",
    "white_df = pd.read_csv(r\"C:\\Users\\windo\\Downloads\\wine+quality\\winequality-white.csv\")"
   ]
  },
  {
   "cell_type": "code",
   "execution_count": 158,
   "id": "fc97dfd9",
   "metadata": {},
   "outputs": [],
   "source": [
    "columns = red_df.columns[0].split(';')"
   ]
  },
  {
   "cell_type": "code",
   "execution_count": 159,
   "id": "71bb836f",
   "metadata": {},
   "outputs": [
    {
     "data": {
      "text/plain": [
       "['fixed acidity',\n",
       " '\"volatile acidity\"',\n",
       " '\"citric acid\"',\n",
       " '\"residual sugar\"',\n",
       " '\"chlorides\"',\n",
       " '\"free sulfur dioxide\"',\n",
       " '\"total sulfur dioxide\"',\n",
       " '\"density\"',\n",
       " '\"pH\"',\n",
       " '\"sulphates\"',\n",
       " '\"alcohol\"',\n",
       " '\"quality\"']"
      ]
     },
     "execution_count": 159,
     "metadata": {},
     "output_type": "execute_result"
    }
   ],
   "source": [
    "columns"
   ]
  },
  {
   "cell_type": "code",
   "execution_count": 160,
   "id": "cecdc6b8",
   "metadata": {},
   "outputs": [],
   "source": [
    "new_col = []\n",
    "\n",
    "for i in columns:\n",
    "    new_col.append(i.replace('\"', ''))\n",
    "    "
   ]
  },
  {
   "cell_type": "code",
   "execution_count": 161,
   "id": "3e393918",
   "metadata": {},
   "outputs": [
    {
     "data": {
      "text/plain": [
       "['7.8',\n",
       " '0.88',\n",
       " '0',\n",
       " '2.6',\n",
       " '0.098',\n",
       " '25',\n",
       " '67',\n",
       " '0.9968',\n",
       " '3.2',\n",
       " '0.68',\n",
       " '9.8',\n",
       " '5']"
      ]
     },
     "execution_count": 161,
     "metadata": {},
     "output_type": "execute_result"
    }
   ],
   "source": [
    "red_df.iat[1,0].split(';')"
   ]
  },
  {
   "cell_type": "code",
   "execution_count": 162,
   "id": "be409841",
   "metadata": {},
   "outputs": [],
   "source": [
    "dt_list = []\n",
    "\n",
    "for idx in range(0,len(red_df)):\n",
    "    dt = red_df.iat[idx,0].split(';')\n",
    "    dt_list.append(dt)\n",
    "    \n",
    "    \n",
    "    "
   ]
  },
  {
   "cell_type": "code",
   "execution_count": 163,
   "id": "a2a12614",
   "metadata": {},
   "outputs": [],
   "source": [
    "df_red = pd.DataFrame(dt_list, \n",
    "                      columns = new_col)"
   ]
  },
  {
   "cell_type": "code",
   "execution_count": 164,
   "id": "39173a61",
   "metadata": {},
   "outputs": [
    {
     "data": {
      "text/html": [
       "<div>\n",
       "<style scoped>\n",
       "    .dataframe tbody tr th:only-of-type {\n",
       "        vertical-align: middle;\n",
       "    }\n",
       "\n",
       "    .dataframe tbody tr th {\n",
       "        vertical-align: top;\n",
       "    }\n",
       "\n",
       "    .dataframe thead th {\n",
       "        text-align: right;\n",
       "    }\n",
       "</style>\n",
       "<table border=\"1\" class=\"dataframe\">\n",
       "  <thead>\n",
       "    <tr style=\"text-align: right;\">\n",
       "      <th></th>\n",
       "      <th>fixed acidity</th>\n",
       "      <th>volatile acidity</th>\n",
       "      <th>citric acid</th>\n",
       "      <th>residual sugar</th>\n",
       "      <th>chlorides</th>\n",
       "      <th>free sulfur dioxide</th>\n",
       "      <th>total sulfur dioxide</th>\n",
       "      <th>density</th>\n",
       "      <th>pH</th>\n",
       "      <th>sulphates</th>\n",
       "      <th>alcohol</th>\n",
       "      <th>quality</th>\n",
       "    </tr>\n",
       "  </thead>\n",
       "  <tbody>\n",
       "    <tr>\n",
       "      <th>0</th>\n",
       "      <td>7.4</td>\n",
       "      <td>0.7</td>\n",
       "      <td>0</td>\n",
       "      <td>1.9</td>\n",
       "      <td>0.076</td>\n",
       "      <td>11</td>\n",
       "      <td>34</td>\n",
       "      <td>0.9978</td>\n",
       "      <td>3.51</td>\n",
       "      <td>0.56</td>\n",
       "      <td>9.4</td>\n",
       "      <td>5</td>\n",
       "    </tr>\n",
       "    <tr>\n",
       "      <th>1</th>\n",
       "      <td>7.8</td>\n",
       "      <td>0.88</td>\n",
       "      <td>0</td>\n",
       "      <td>2.6</td>\n",
       "      <td>0.098</td>\n",
       "      <td>25</td>\n",
       "      <td>67</td>\n",
       "      <td>0.9968</td>\n",
       "      <td>3.2</td>\n",
       "      <td>0.68</td>\n",
       "      <td>9.8</td>\n",
       "      <td>5</td>\n",
       "    </tr>\n",
       "    <tr>\n",
       "      <th>2</th>\n",
       "      <td>7.8</td>\n",
       "      <td>0.76</td>\n",
       "      <td>0.04</td>\n",
       "      <td>2.3</td>\n",
       "      <td>0.092</td>\n",
       "      <td>15</td>\n",
       "      <td>54</td>\n",
       "      <td>0.997</td>\n",
       "      <td>3.26</td>\n",
       "      <td>0.65</td>\n",
       "      <td>9.8</td>\n",
       "      <td>5</td>\n",
       "    </tr>\n",
       "    <tr>\n",
       "      <th>3</th>\n",
       "      <td>11.2</td>\n",
       "      <td>0.28</td>\n",
       "      <td>0.56</td>\n",
       "      <td>1.9</td>\n",
       "      <td>0.075</td>\n",
       "      <td>17</td>\n",
       "      <td>60</td>\n",
       "      <td>0.998</td>\n",
       "      <td>3.16</td>\n",
       "      <td>0.58</td>\n",
       "      <td>9.8</td>\n",
       "      <td>6</td>\n",
       "    </tr>\n",
       "    <tr>\n",
       "      <th>4</th>\n",
       "      <td>7.4</td>\n",
       "      <td>0.7</td>\n",
       "      <td>0</td>\n",
       "      <td>1.9</td>\n",
       "      <td>0.076</td>\n",
       "      <td>11</td>\n",
       "      <td>34</td>\n",
       "      <td>0.9978</td>\n",
       "      <td>3.51</td>\n",
       "      <td>0.56</td>\n",
       "      <td>9.4</td>\n",
       "      <td>5</td>\n",
       "    </tr>\n",
       "    <tr>\n",
       "      <th>...</th>\n",
       "      <td>...</td>\n",
       "      <td>...</td>\n",
       "      <td>...</td>\n",
       "      <td>...</td>\n",
       "      <td>...</td>\n",
       "      <td>...</td>\n",
       "      <td>...</td>\n",
       "      <td>...</td>\n",
       "      <td>...</td>\n",
       "      <td>...</td>\n",
       "      <td>...</td>\n",
       "      <td>...</td>\n",
       "    </tr>\n",
       "    <tr>\n",
       "      <th>1594</th>\n",
       "      <td>6.2</td>\n",
       "      <td>0.6</td>\n",
       "      <td>0.08</td>\n",
       "      <td>2</td>\n",
       "      <td>0.09</td>\n",
       "      <td>32</td>\n",
       "      <td>44</td>\n",
       "      <td>0.9949</td>\n",
       "      <td>3.45</td>\n",
       "      <td>0.58</td>\n",
       "      <td>10.5</td>\n",
       "      <td>5</td>\n",
       "    </tr>\n",
       "    <tr>\n",
       "      <th>1595</th>\n",
       "      <td>5.9</td>\n",
       "      <td>0.55</td>\n",
       "      <td>0.1</td>\n",
       "      <td>2.2</td>\n",
       "      <td>0.062</td>\n",
       "      <td>39</td>\n",
       "      <td>51</td>\n",
       "      <td>0.99512</td>\n",
       "      <td>3.52</td>\n",
       "      <td>0.76</td>\n",
       "      <td>11.2</td>\n",
       "      <td>6</td>\n",
       "    </tr>\n",
       "    <tr>\n",
       "      <th>1596</th>\n",
       "      <td>6.3</td>\n",
       "      <td>0.51</td>\n",
       "      <td>0.13</td>\n",
       "      <td>2.3</td>\n",
       "      <td>0.076</td>\n",
       "      <td>29</td>\n",
       "      <td>40</td>\n",
       "      <td>0.99574</td>\n",
       "      <td>3.42</td>\n",
       "      <td>0.75</td>\n",
       "      <td>11</td>\n",
       "      <td>6</td>\n",
       "    </tr>\n",
       "    <tr>\n",
       "      <th>1597</th>\n",
       "      <td>5.9</td>\n",
       "      <td>0.645</td>\n",
       "      <td>0.12</td>\n",
       "      <td>2</td>\n",
       "      <td>0.075</td>\n",
       "      <td>32</td>\n",
       "      <td>44</td>\n",
       "      <td>0.99547</td>\n",
       "      <td>3.57</td>\n",
       "      <td>0.71</td>\n",
       "      <td>10.2</td>\n",
       "      <td>5</td>\n",
       "    </tr>\n",
       "    <tr>\n",
       "      <th>1598</th>\n",
       "      <td>6</td>\n",
       "      <td>0.31</td>\n",
       "      <td>0.47</td>\n",
       "      <td>3.6</td>\n",
       "      <td>0.067</td>\n",
       "      <td>18</td>\n",
       "      <td>42</td>\n",
       "      <td>0.99549</td>\n",
       "      <td>3.39</td>\n",
       "      <td>0.66</td>\n",
       "      <td>11</td>\n",
       "      <td>6</td>\n",
       "    </tr>\n",
       "  </tbody>\n",
       "</table>\n",
       "<p>1599 rows × 12 columns</p>\n",
       "</div>"
      ],
      "text/plain": [
       "     fixed acidity volatile acidity citric acid residual sugar chlorides  \\\n",
       "0              7.4              0.7           0            1.9     0.076   \n",
       "1              7.8             0.88           0            2.6     0.098   \n",
       "2              7.8             0.76        0.04            2.3     0.092   \n",
       "3             11.2             0.28        0.56            1.9     0.075   \n",
       "4              7.4              0.7           0            1.9     0.076   \n",
       "...            ...              ...         ...            ...       ...   \n",
       "1594           6.2              0.6        0.08              2      0.09   \n",
       "1595           5.9             0.55         0.1            2.2     0.062   \n",
       "1596           6.3             0.51        0.13            2.3     0.076   \n",
       "1597           5.9            0.645        0.12              2     0.075   \n",
       "1598             6             0.31        0.47            3.6     0.067   \n",
       "\n",
       "     free sulfur dioxide total sulfur dioxide  density    pH sulphates  \\\n",
       "0                     11                   34   0.9978  3.51      0.56   \n",
       "1                     25                   67   0.9968   3.2      0.68   \n",
       "2                     15                   54    0.997  3.26      0.65   \n",
       "3                     17                   60    0.998  3.16      0.58   \n",
       "4                     11                   34   0.9978  3.51      0.56   \n",
       "...                  ...                  ...      ...   ...       ...   \n",
       "1594                  32                   44   0.9949  3.45      0.58   \n",
       "1595                  39                   51  0.99512  3.52      0.76   \n",
       "1596                  29                   40  0.99574  3.42      0.75   \n",
       "1597                  32                   44  0.99547  3.57      0.71   \n",
       "1598                  18                   42  0.99549  3.39      0.66   \n",
       "\n",
       "     alcohol quality  \n",
       "0        9.4       5  \n",
       "1        9.8       5  \n",
       "2        9.8       5  \n",
       "3        9.8       6  \n",
       "4        9.4       5  \n",
       "...      ...     ...  \n",
       "1594    10.5       5  \n",
       "1595    11.2       6  \n",
       "1596      11       6  \n",
       "1597    10.2       5  \n",
       "1598      11       6  \n",
       "\n",
       "[1599 rows x 12 columns]"
      ]
     },
     "execution_count": 164,
     "metadata": {},
     "output_type": "execute_result"
    }
   ],
   "source": [
    "df_red"
   ]
  },
  {
   "cell_type": "code",
   "execution_count": 165,
   "id": "75015809",
   "metadata": {},
   "outputs": [],
   "source": [
    "df_red = df_red.astype('float')"
   ]
  },
  {
   "cell_type": "code",
   "execution_count": 166,
   "id": "60aa3bf0",
   "metadata": {},
   "outputs": [],
   "source": [
    "y = df_red['residual sugar']"
   ]
  },
  {
   "cell_type": "code",
   "execution_count": 167,
   "id": "f1aa776a",
   "metadata": {},
   "outputs": [],
   "source": [
    "x = df_red.drop('residual sugar', axis = 1)"
   ]
  },
  {
   "cell_type": "code",
   "execution_count": 168,
   "id": "9247fdac",
   "metadata": {},
   "outputs": [
    {
     "data": {
      "text/plain": [
       "fixed acidity           0\n",
       "volatile acidity        0\n",
       "citric acid             0\n",
       "chlorides               0\n",
       "free sulfur dioxide     0\n",
       "total sulfur dioxide    0\n",
       "density                 0\n",
       "pH                      0\n",
       "sulphates               0\n",
       "alcohol                 0\n",
       "quality                 0\n",
       "dtype: int64"
      ]
     },
     "execution_count": 168,
     "metadata": {},
     "output_type": "execute_result"
    }
   ],
   "source": [
    "x.isnull().sum()\n",
    "# 결측치는 존재하지 않는다."
   ]
  },
  {
   "cell_type": "code",
   "execution_count": 169,
   "id": "bbada00b",
   "metadata": {},
   "outputs": [],
   "source": [
    "# (1) StandardScaler를 이용한 DF 표준화"
   ]
  },
  {
   "cell_type": "code",
   "execution_count": 170,
   "id": "8c04e22f",
   "metadata": {},
   "outputs": [],
   "source": [
    "from sklearn.preprocessing import StandardScaler\n",
    "\n",
    "scaler = StandardScaler()\n",
    "scaler.fit(df_red)\n",
    "df_scaled = scaler.transform(df_red)\n",
    "\n",
    "df_red = pd.DataFrame(data = df_scaled, columns = df_red.columns)"
   ]
  },
  {
   "cell_type": "code",
   "execution_count": null,
   "id": "57b31ad9",
   "metadata": {},
   "outputs": [],
   "source": [
    "# (2) MinMaxScaler를 이용한 DF 정규화"
   ]
  },
  {
   "cell_type": "code",
   "execution_count": 191,
   "id": "fda4be80",
   "metadata": {},
   "outputs": [],
   "source": [
    "from sklearn.preprocessing import MinMaxScaler\n",
    "\n",
    "scaler = MinMaxScaler()\n",
    "scaler.fit(df_red)\n",
    "df_scaled = scaler.transform(df_red)\n",
    "\n",
    "df_red = pd.DataFrame(data= df_scaled, columns = df_red.columns)"
   ]
  },
  {
   "cell_type": "code",
   "execution_count": null,
   "id": "60975b96",
   "metadata": {},
   "outputs": [],
   "source": [
    "# (3) RobustScaler를 이용한 DF 스케일링"
   ]
  },
  {
   "cell_type": "code",
   "execution_count": 212,
   "id": "205cb6f6",
   "metadata": {},
   "outputs": [],
   "source": [
    "from sklearn.preprocessing import RobustScaler\n",
    "\n",
    "scaler = RobustScaler()\n",
    "scaler.fit(df_red)\n",
    "df_scaled = scaler.transform(df_red)\n",
    "\n",
    "df_red = pd.DataFrame(data = df_scaled, columns = df_red.columns)"
   ]
  },
  {
   "cell_type": "code",
   "execution_count": 171,
   "id": "e77c29cb",
   "metadata": {},
   "outputs": [],
   "source": [
    "# 트레인셋, 검증셋, 테스트셋으로 나누기"
   ]
  },
  {
   "cell_type": "code",
   "execution_count": 213,
   "id": "658e14f5",
   "metadata": {},
   "outputs": [],
   "source": [
    "from sklearn.model_selection import train_test_split"
   ]
  },
  {
   "cell_type": "code",
   "execution_count": 214,
   "id": "960a61ce",
   "metadata": {},
   "outputs": [],
   "source": [
    "train_input, test_input, train_target, test_target = train_test_split(x, y, test_size = 0.2,\n",
    "                                                                     random_state = 42)\n",
    "\n",
    "# 전체(x 데이터) 중 20퍼센트를 test 셋으로 떼어놓기\n"
   ]
  },
  {
   "cell_type": "code",
   "execution_count": 215,
   "id": "7315b996",
   "metadata": {},
   "outputs": [],
   "source": [
    "sub_input, val_input, sub_target, val_target = train_test_split(train_input, train_target, test_size = 0.25,\n",
    "                                                                random_state = 42)\n",
    "\n",
    "#다시 train_input 데이터의 1/4을 트레인셋과 검증셋으로 나눈다.\n"
   ]
  },
  {
   "cell_type": "code",
   "execution_count": 216,
   "id": "60b0429d",
   "metadata": {},
   "outputs": [
    {
     "data": {
      "text/plain": [
       "493     3.0\n",
       "354     1.4\n",
       "342     1.8\n",
       "834     1.6\n",
       "705     6.0\n",
       "       ... \n",
       "1130    1.9\n",
       "1294    2.1\n",
       "860     2.7\n",
       "1459    1.7\n",
       "1126    1.7\n",
       "Name: residual sugar, Length: 1279, dtype: float64"
      ]
     },
     "execution_count": 216,
     "metadata": {},
     "output_type": "execute_result"
    }
   ],
   "source": [
    "train_target"
   ]
  },
  {
   "cell_type": "code",
   "execution_count": 217,
   "id": "da4907c8",
   "metadata": {},
   "outputs": [],
   "source": [
    "# DT를 이용해 회귀 모델을 만든다."
   ]
  },
  {
   "cell_type": "code",
   "execution_count": 218,
   "id": "e508db6b",
   "metadata": {},
   "outputs": [
    {
     "name": "stdout",
     "output_type": "stream",
     "text": [
      "1.0\n",
      "0.28272990540777465\n"
     ]
    }
   ],
   "source": [
    "from sklearn.tree import DecisionTreeRegressor\n",
    "\n",
    "DT = DecisionTreeRegressor()\n",
    "DT.fit(sub_input, sub_target)\n",
    "\n",
    "print(DT.score(sub_input, sub_target))\n",
    "print(DT.score(val_input, val_target))\n",
    "\n",
    "## 과적합 발생"
   ]
  },
  {
   "cell_type": "code",
   "execution_count": null,
   "id": "efc881ce",
   "metadata": {},
   "outputs": [],
   "source": []
  },
  {
   "cell_type": "code",
   "execution_count": 219,
   "id": "5113fe7d",
   "metadata": {},
   "outputs": [],
   "source": [
    "# SVM을 이용해 회귀 모델을 만든다."
   ]
  },
  {
   "cell_type": "code",
   "execution_count": 220,
   "id": "de1f1132",
   "metadata": {},
   "outputs": [
    {
     "name": "stdout",
     "output_type": "stream",
     "text": [
      "0.019733181098254837\n",
      "-0.017995336787567817\n"
     ]
    }
   ],
   "source": [
    "from sklearn.svm import SVR\n",
    "\n",
    "SVR =SVR()\n",
    "SVR.fit(sub_input, sub_target)\n",
    "\n",
    "print(SVR.score(sub_input, sub_target))\n",
    "print(SVR.score(val_input, val_target))\n",
    "\n",
    "# 모델의 성능이 좋지 않다."
   ]
  },
  {
   "cell_type": "code",
   "execution_count": 221,
   "id": "5e49e779",
   "metadata": {},
   "outputs": [],
   "source": [
    "# LR을 이용해 회귀 모델 만들기."
   ]
  },
  {
   "cell_type": "code",
   "execution_count": 222,
   "id": "3c5305b0",
   "metadata": {},
   "outputs": [
    {
     "name": "stdout",
     "output_type": "stream",
     "text": [
      "0.4293685917878485\n",
      "0.3970619917651016\n"
     ]
    }
   ],
   "source": [
    "from sklearn.linear_model import LinearRegression\n",
    "\n",
    "LR = LinearRegression()\n",
    "LR.fit(sub_input, sub_target)\n",
    "\n",
    "print(LR.score(sub_input, sub_target))\n",
    "print(LR.score(val_input, val_target))\n",
    "\n",
    "# 모델의 성능이 좋지 않다."
   ]
  },
  {
   "cell_type": "code",
   "execution_count": 223,
   "id": "f5cff173",
   "metadata": {},
   "outputs": [],
   "source": [
    "# RF를 이용해 회귀 모델 만들기"
   ]
  },
  {
   "cell_type": "code",
   "execution_count": 224,
   "id": "ea34c1b7",
   "metadata": {},
   "outputs": [
    {
     "name": "stdout",
     "output_type": "stream",
     "text": [
      "0.9353494461687388\n",
      "0.4935602572346701\n"
     ]
    }
   ],
   "source": [
    "from sklearn.ensemble import RandomForestRegressor\n",
    "\n",
    "RF = RandomForestRegressor()\n",
    "RF.fit(sub_input, sub_target)\n",
    "\n",
    "print(RF.score(sub_input, sub_target))\n",
    "print(RF.score(val_input, val_target))\n",
    "\n",
    "#과대적합 발생"
   ]
  },
  {
   "cell_type": "code",
   "execution_count": 204,
   "id": "56e84c79",
   "metadata": {},
   "outputs": [],
   "source": [
    "# KNN을 이용해 회귀 모델 만들기"
   ]
  },
  {
   "cell_type": "code",
   "execution_count": 225,
   "id": "2ce7b1dc",
   "metadata": {},
   "outputs": [
    {
     "name": "stdout",
     "output_type": "stream",
     "text": [
      "0.5626891503802467\n",
      "0.007392804188021906\n"
     ]
    }
   ],
   "source": [
    "from sklearn.neighbors import KNeighborsRegressor\n",
    "\n",
    "KNR = KNeighborsRegressor()\n",
    "\n",
    "KNR.n_neighbors = 3\n",
    "\n",
    "KNR.fit(sub_input, sub_target)\n",
    "\n",
    "print(KNR.score(sub_input, sub_target))\n",
    "print(KNR.score(val_input, val_target))\n",
    "\n",
    "# 과적합이 일어나고, 성능이 안 좋음."
   ]
  },
  {
   "cell_type": "code",
   "execution_count": 226,
   "id": "e01a1dad",
   "metadata": {},
   "outputs": [],
   "source": [
    "# PolynomialFeature를 이용한 회귀 모델"
   ]
  },
  {
   "cell_type": "code",
   "execution_count": 227,
   "id": "26702cbf",
   "metadata": {},
   "outputs": [],
   "source": [
    "from sklearn.preprocessing import PolynomialFeatures"
   ]
  },
  {
   "cell_type": "code",
   "execution_count": 228,
   "id": "4c419ed9",
   "metadata": {},
   "outputs": [
    {
     "name": "stdout",
     "output_type": "stream",
     "text": [
      "(959, 78)\n"
     ]
    }
   ],
   "source": [
    "poly = PolynomialFeatures()\n",
    "poly.fit(sub_input)\n",
    "sub_poly = poly.transform(sub_input)\n",
    "print(train_poly.shape)"
   ]
  },
  {
   "cell_type": "code",
   "execution_count": 209,
   "id": "2e82e358",
   "metadata": {},
   "outputs": [],
   "source": [
    "val_poly = poly.transform(val_input)"
   ]
  },
  {
   "cell_type": "code",
   "execution_count": 229,
   "id": "96fe0fbd",
   "metadata": {},
   "outputs": [
    {
     "name": "stdout",
     "output_type": "stream",
     "text": [
      "0.6854620043600714\n",
      "0.6042764520369126\n"
     ]
    }
   ],
   "source": [
    "from sklearn.linear_model import LinearRegression\n",
    "LR= LinearRegression()\n",
    "LR.fit(sub_poly, sub_target)\n",
    "\n",
    "print(LR.score(sub_poly, sub_target))\n",
    "print(LR.score(val_poly, val_target))\n",
    "\n",
    "#  모델의 성능이 조금 더 향상.\n"
   ]
  },
  {
   "cell_type": "code",
   "execution_count": null,
   "id": "15a63d02",
   "metadata": {},
   "outputs": [],
   "source": []
  },
  {
   "cell_type": "code",
   "execution_count": null,
   "id": "49999da2",
   "metadata": {},
   "outputs": [],
   "source": []
  }
 ],
 "metadata": {
  "kernelspec": {
   "display_name": "Python 3 (ipykernel)",
   "language": "python",
   "name": "python3"
  },
  "language_info": {
   "codemirror_mode": {
    "name": "ipython",
    "version": 3
   },
   "file_extension": ".py",
   "mimetype": "text/x-python",
   "name": "python",
   "nbconvert_exporter": "python",
   "pygments_lexer": "ipython3",
   "version": "3.9.13"
  }
 },
 "nbformat": 4,
 "nbformat_minor": 5
}
